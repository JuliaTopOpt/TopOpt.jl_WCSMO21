{
 "cells": [
  {
   "cell_type": "code",
   "execution_count": 1,
   "id": "unsigned-authentication",
   "metadata": {},
   "outputs": [
    {
     "name": "stderr",
     "output_type": "stream",
     "text": [
      "┌ Info: Precompiling Makie [ee78f7c6-11fb-53f2-987a-cfe4a2b5a57a]\n",
      "└ @ Base loading.jl:1313\n",
      "┌ Info: Precompiling TopOpt [53a1e1a5-51bb-58a9-8a02-02056cc81109]\n",
      "└ @ Base loading.jl:1313\n"
     ]
    }
   ],
   "source": [
    "using Makie, TopOpt, LinearAlgebra, StatsFuns\n",
    "using TopOpt.TopOptProblems.Visualization: visualize"
   ]
  },
  {
   "cell_type": "markdown",
   "id": "prescription-snowboard",
   "metadata": {},
   "source": [
    "## Parameter setup"
   ]
  },
  {
   "cell_type": "code",
   "execution_count": 20,
   "id": "sealed-mother",
   "metadata": {},
   "outputs": [],
   "source": [
    "E = 1.0 # Young’s modulus\n",
    "v = 0.3 # Poisson’s ratio\n",
    "f = 1.0 # downward force\n",
    "rmin = 4.0 # filter radius\n",
    "xmin = 0.0001 # minimum density\n",
    "problem_size = (30, 10, 10)\n",
    "V = 0.5 # maximum volume fraction\n",
    "p = 4.0 # penalty\n",
    "\n",
    "x0 = fill(V, prod(problem_size)); # initial design"
   ]
  },
  {
   "cell_type": "markdown",
   "id": "desperate-villa",
   "metadata": {},
   "source": [
    "## Define a new problem"
   ]
  },
  {
   "cell_type": "code",
   "execution_count": 5,
   "id": "proprietary-termination",
   "metadata": {},
   "outputs": [
    {
     "ename": "LoadError",
     "evalue": "invalid redefinition of constant NewPointLoadCantilever",
     "output_type": "error",
     "traceback": [
      "invalid redefinition of constant NewPointLoadCantilever",
      "",
      "Stacktrace:",
      " [1] top-level scope",
      "   @ In[5]:8",
      " [2] eval",
      "   @ .\\boot.jl:360 [inlined]",
      " [3] include_string(mapexpr::typeof(REPL.softscope), mod::Module, code::String, filename::String)",
      "   @ Base .\\loading.jl:1090"
     ]
    }
   ],
   "source": [
    "using Ferrite\n",
    "using TopOpt\n",
    "using TopOpt.TopOptProblems: RectilinearGrid, Metadata\n",
    "using TopOpt.TopOptProblems: left, right, bottom, middley, middlez,\n",
    "    nnodespercell, nfacespercell, find_black_and_white, find_varind\n",
    "using TopOpt.Utilities: @params\n",
    "\n",
    "@params struct NewPointLoadCantilever{dim, T, N, M} <: StiffnessTopOptProblem{dim, T}\n",
    "    rect_grid::RectilinearGrid{dim, T, N, M}\n",
    "    E::T\n",
    "    ν::T\n",
    "    ch::ConstraintHandler{<:DofHandler{dim, <:Cell{dim,N,M}, T}, T}\n",
    "    load_dict::Dict{Int, Vector{T}}\n",
    "    black::AbstractVector\n",
    "    white::AbstractVector\n",
    "    varind::AbstractVector{Int}\n",
    "    metadata::Metadata\n",
    "end\n",
    "\n",
    "function NewPointLoadCantilever(::Type{Val{CellType}}, nels::NTuple{dim,Int}, sizes::NTuple{dim}, \n",
    "    E = 1.0, ν = 0.3, force = 1.0) where {dim, CellType}\n",
    "    iseven(nels[2]) && (length(nels) < 3 || iseven(nels[3])) || throw(\"Grid does not have an even number of elements along the y and/or z axes.\")\n",
    "\n",
    "    _T = promote_type(eltype(sizes), typeof(E), typeof(ν), typeof(force))\n",
    "    if _T <: Integer\n",
    "        T = Float64\n",
    "    else\n",
    "        T = _T\n",
    "    end\n",
    "    if CellType === :Linear || dim === 3\n",
    "        rect_grid = RectilinearGrid(Val{:Linear}, nels, T.(sizes))\n",
    "    else\n",
    "        rect_grid = RectilinearGrid(Val{:Quadratic}, nels, T.(sizes))\n",
    "    end\n",
    "\n",
    "    if haskey(rect_grid.grid.facesets, \"fixed_all\") \n",
    "        pop!(rect_grid.grid.facesets, \"fixed_all\")\n",
    "    end\n",
    "    addnodeset!(rect_grid.grid, \"fixed_all\", x -> left(rect_grid, x));\n",
    "    \n",
    "    if haskey(rect_grid.grid.nodesets, \"down_force\") \n",
    "        pop!(rect_grid.grid.nodesets, \"down_force\")\n",
    "    end\n",
    "    if dim == 3\n",
    "        addnodeset!(rect_grid.grid, \"down_force\", x -> right(rect_grid, x) && \n",
    "            bottom(rect_grid, x));\n",
    "            #  && middlez(rect_grid, x));\n",
    "    else\n",
    "        addnodeset!(rect_grid.grid, \"down_force\", x -> right(rect_grid, x) && \n",
    "            right(rect_grid, x) && middley(rect_grid, x));\n",
    "    end\n",
    "\n",
    "    # Create displacement field u\n",
    "    dh = DofHandler(rect_grid.grid)\n",
    "    if CellType === :Linear || dim === 3\n",
    "        push!(dh, :u, dim) # Add a displacement field\n",
    "    else\n",
    "        ip = Lagrange{2, RefCube, 2}()\n",
    "        push!(dh, :u, dim, ip) # Add a displacement field        \n",
    "    end\n",
    "    close!(dh)\n",
    "    \n",
    "    ch = ConstraintHandler(dh)\n",
    "\n",
    "    dbc = Dirichlet(:u, getnodeset(rect_grid.grid, \"fixed_all\"), (x,t) -> zeros(T, dim), collect(1:dim))\n",
    "    add!(ch, dbc)\n",
    "    close!(ch)\n",
    "    t = T(0)\n",
    "    Ferrite.update!(ch, t)\n",
    "\n",
    "    metadata = Metadata(dh)\n",
    "    load_dict = Dict{Int, Vector{T}}()\n",
    "    for fnode in getnodeset(rect_grid.grid, \"down_force\")\n",
    "    \tload_dict[fnode] = [0, -force, 0]\n",
    "    end\n",
    "\n",
    "    N = nnodespercell(rect_grid)\n",
    "    M = nfacespercell(rect_grid)\n",
    "\n",
    "    black, white = find_black_and_white(dh)\n",
    "    varind = find_varind(black, white)\n",
    "    \n",
    "    return NewPointLoadCantilever(rect_grid, E, ν, ch, load_dict, black, white, varind, metadata)\n",
    "end\n",
    "\n",
    "# used in FEA to determine default quad order\n",
    "# we don't assume the problem struct has `rect_grid` to define its grid\n",
    "TopOptProblems.nnodespercell(p::NewPointLoadCantilever) = nnodespercell(p.rect_grid)\n",
    "\n",
    "# ! important, used for specification!\n",
    "function TopOptProblems.getcloaddict(p::NewPointLoadCantilever{dim, T}) where {dim, T}\n",
    "    # f = T[0, -p.force, 0]\n",
    "    # fnode = Tuple(getnodeset(p.rect_grid.grid, \"down_force\"))[1]\n",
    "    # return Dict{Int, Vector{T}}(fnode => f)\n",
    "    return p.load_dict\n",
    "end"
   ]
  },
  {
   "cell_type": "code",
   "execution_count": 21,
   "id": "stunning-emission",
   "metadata": {},
   "outputs": [],
   "source": [
    "problem = NewPointLoadCantilever(Val{:Linear}, problem_size, (1.0, 1.0, 1.0), E, v, f);"
   ]
  },
  {
   "cell_type": "markdown",
   "id": "upset-function",
   "metadata": {},
   "source": [
    "## FEA solvers"
   ]
  },
  {
   "cell_type": "code",
   "execution_count": 22,
   "id": "cardiovascular-roller",
   "metadata": {},
   "outputs": [],
   "source": [
    "solver = FEASolver(Displacement, Direct, problem, xmin = xmin);"
   ]
  },
  {
   "cell_type": "code",
   "execution_count": 23,
   "id": "measured-ballot",
   "metadata": {},
   "outputs": [
    {
     "data": {
      "text/plain": [
       "11253-element Vector{Float64}:\n",
       "    0.0\n",
       "    0.0\n",
       "    0.0\n",
       "   -2.2099446376081686\n",
       "   -0.9999034775224457\n",
       "   -1.4202725587371576\n",
       "   -1.5759577627647248\n",
       "   -0.42196268331009407\n",
       "   -1.140815179503329\n",
       "    0.0\n",
       "    0.0\n",
       "    0.0\n",
       "    0.0\n",
       "    ⋮\n",
       "   28.54202289729392\n",
       " -106.73217916326222\n",
       "   -0.19481464550894279\n",
       "   28.60298050880803\n",
       " -112.64039125867208\n",
       "   -0.1259155145335127\n",
       "   28.61626113360229\n",
       " -118.4816362695016\n",
       "   -0.08202963419333631\n",
       "   28.614817608618498\n",
       " -124.26831756075559\n",
       "   -0.05206099717716567"
      ]
     },
     "execution_count": 23,
     "metadata": {},
     "output_type": "execute_result"
    }
   ],
   "source": [
    "solver()\n",
    "u0 = solver.u"
   ]
  },
  {
   "cell_type": "code",
   "execution_count": 24,
   "id": "hollywood-renaissance",
   "metadata": {},
   "outputs": [
    {
     "data": {
      "text/plain": [
       "GLMakie.Screen(...)"
      ]
     },
     "execution_count": 24,
     "metadata": {},
     "output_type": "execute_result"
    }
   ],
   "source": [
    "# visualize the deformation!\n",
    "fig = visualize(problem, u0)\n",
    "Makie.display(fig)"
   ]
  },
  {
   "cell_type": "code",
   "execution_count": 9,
   "id": "empirical-joining",
   "metadata": {},
   "outputs": [],
   "source": [
    "# cg_assembly_solver = FEASolver(Displacement, CG, Assembly, problem, xmin = xmin)\n",
    "# cg_matrix_free_solver = FEASolver(Displacement, CG, MatrixFree, problem, xmin = xmin)"
   ]
  },
  {
   "cell_type": "markdown",
   "id": "agreed-senator",
   "metadata": {},
   "source": [
    "## Construct objective and constraints (function definitions)"
   ]
  },
  {
   "cell_type": "code",
   "execution_count": 25,
   "id": "upset-actor",
   "metadata": {},
   "outputs": [],
   "source": [
    "cheqfilter = DensityFilter(solver, rmin = rmin)\n",
    "stress = TopOpt.MicroVonMisesStress(solver)\n",
    "comp = TopOpt.Compliance(problem, solver)\n",
    "\n",
    "# minimize compliance\n",
    "function obj(x)\n",
    "    return comp(cheqfilter(x))\n",
    "end\n",
    "\n",
    "# volume bound\n",
    "function constr(x)\n",
    "    return sum(cheqfilter(x)) / length(x) - V\n",
    "end;"
   ]
  },
  {
   "cell_type": "markdown",
   "id": "spatial-cisco",
   "metadata": {},
   "source": [
    "## Run optimization"
   ]
  },
  {
   "cell_type": "code",
   "execution_count": 27,
   "id": "necessary-avenue",
   "metadata": {},
   "outputs": [
    {
     "name": "stdout",
     "output_type": "stream",
     "text": [
      "(kkt_residual, ipopt_residual, kkttol) = (224.5665607558163, 224.5665607558163, 0.001)\n",
      "(kkt_residual, ipopt_residual, kkttol) = (4068.8507082578762, 4068.8507082578762, 0.001)\n",
      "(kkt_residual, ipopt_residual, kkttol) = (1012.4884898914032, 1012.4884898914032, 0.001)\n",
      "(kkt_residual, ipopt_residual, kkttol) = (472.4905904385448, 472.4905904385448, 0.001)\n",
      "(kkt_residual, ipopt_residual, kkttol) = (380.62103963772313, 380.62103963772313, 0.001)\n",
      "(kkt_residual, ipopt_residual, kkttol) = (170.8736490566089, 170.8736490566089, 0.001)\n",
      "(kkt_residual, ipopt_residual, kkttol) = (82.13063085633439, 82.13063085633439, 0.001)\n",
      "(kkt_residual, ipopt_residual, kkttol) = (58.81438158896027, 58.81438158896027, 0.001)\n",
      "(kkt_residual, ipopt_residual, kkttol) = (36.61017225561352, 36.61017225561352, 0.001)\n",
      "(kkt_residual, ipopt_residual, kkttol) = (32.79226581626342, 32.79226581626342, 0.001)\n",
      "(kkt_residual, ipopt_residual, kkttol) = (33.45943307425962, 33.45943307425962, 0.001)\n",
      "(kkt_residual, ipopt_residual, kkttol) = (39.90444807591821, 39.90444807591821, 0.001)\n",
      "(kkt_residual, ipopt_residual, kkttol) = (53.72220985644005, 53.72220985644005, 0.001)\n",
      "(kkt_residual, ipopt_residual, kkttol) = (70.83123502021874, 70.83123502021874, 0.001)\n",
      "(kkt_residual, ipopt_residual, kkttol) = (70.45105406259401, 70.45105406259401, 0.001)\n",
      "(kkt_residual, ipopt_residual, kkttol) = (65.34046936095282, 65.34046936095282, 0.001)\n",
      "(kkt_residual, ipopt_residual, kkttol) = (56.15604171357364, 56.15604171357364, 0.001)\n",
      "(kkt_residual, ipopt_residual, kkttol) = (46.04341179117518, 46.04341179117518, 0.001)\n",
      "(kkt_residual, ipopt_residual, kkttol) = (37.03841122589183, 37.03841122589183, 0.001)\n",
      "(kkt_residual, ipopt_residual, kkttol) = (32.34087924408625, 32.34087924408625, 0.001)\n",
      "(kkt_residual, ipopt_residual, kkttol) = (20.865082003124915, 20.865082003124915, 0.001)\n",
      "(kkt_residual, ipopt_residual, kkttol) = (13.727950655644706, 13.727950655644706, 0.001)\n",
      "(kkt_residual, ipopt_residual, kkttol) = (8.732107456191283, 8.732107456191283, 0.001)\n",
      "(kkt_residual, ipopt_residual, kkttol) = (6.547354994940525, 6.547354994940525, 0.001)\n",
      "(kkt_residual, ipopt_residual, kkttol) = (5.020056632375374, 5.020056632375374, 0.001)\n",
      "(kkt_residual, ipopt_residual, kkttol) = (3.759031993389978, 3.759031993389978, 0.001)\n",
      "(kkt_residual, ipopt_residual, kkttol) = (2.5903079203928807, 2.5903079203928807, 0.001)\n",
      "(kkt_residual, ipopt_residual, kkttol) = (2.0619519338996057, 2.0619519338996057, 0.001)\n",
      "(kkt_residual, ipopt_residual, kkttol) = (1.6812918282723857, 1.6812918282723857, 0.001)\n",
      "(kkt_residual, ipopt_residual, kkttol) = (1.6331796106742758, 1.6331796106742758, 0.001)\n",
      "(kkt_residual, ipopt_residual, kkttol) = (1.6075296695002868, 1.6075296695002868, 0.001)\n",
      "(kkt_residual, ipopt_residual, kkttol) = (1.3588664639784191, 1.3588664639784191, 0.001)\n",
      "(kkt_residual, ipopt_residual, kkttol) = (0.8591772512673224, 0.8591772512673224, 0.001)\n",
      "(kkt_residual, ipopt_residual, kkttol) = (0.8582256247335884, 0.8582256247335884, 0.001)\n",
      "(kkt_residual, ipopt_residual, kkttol) = (0.6824505394356191, 0.6824505394356191, 0.001)\n",
      "(kkt_residual, ipopt_residual, kkttol) = (0.6540346178143253, 0.6540346178143253, 0.001)\n",
      "(kkt_residual, ipopt_residual, kkttol) = (0.636091208514415, 0.636091208514415, 0.001)\n",
      "(kkt_residual, ipopt_residual, kkttol) = (0.6177348306394066, 0.6177348306394066, 0.001)\n",
      "(kkt_residual, ipopt_residual, kkttol) = (0.5753861134379896, 0.5753861134379896, 0.001)\n",
      "(kkt_residual, ipopt_residual, kkttol) = (0.5710279158926514, 0.5710279158926514, 0.001)\n",
      "(kkt_residual, ipopt_residual, kkttol) = (0.5728174857171684, 0.5728174857171684, 0.001)\n",
      "(kkt_residual, ipopt_residual, kkttol) = (0.3015451919200203, 0.3015451919200203, 0.001)\n",
      "(kkt_residual, ipopt_residual, kkttol) = (0.3089768704313727, 0.3089768704313727, 0.001)\n",
      "(kkt_residual, ipopt_residual, kkttol) = (0.31481111834187026, 0.31481111834187026, 0.001)\n",
      "(kkt_residual, ipopt_residual, kkttol) = (0.25797204568272747, 0.25797204568272747, 0.001)\n",
      "(kkt_residual, ipopt_residual, kkttol) = (0.27261745628613276, 0.27261745628613276, 0.001)\n",
      "(kkt_residual, ipopt_residual, kkttol) = (0.28160380343683755, 0.28160380343683755, 0.001)\n",
      "(kkt_residual, ipopt_residual, kkttol) = (0.29486266327299226, 0.29486266327299226, 0.001)\n",
      "(kkt_residual, ipopt_residual, kkttol) = (0.30463315494193566, 0.30463315494193566, 0.001)\n",
      "(kkt_residual, ipopt_residual, kkttol) = (0.2656846264515291, 0.2656846264515291, 0.001)\n",
      "(kkt_residual, ipopt_residual, kkttol) = (0.3038355515855695, 0.3038355515855695, 0.001)\n",
      "(kkt_residual, ipopt_residual, kkttol) = (0.3317922575935981, 0.3317922575935981, 0.001)\n",
      "(kkt_residual, ipopt_residual, kkttol) = (0.36219272340564856, 0.36219272340564856, 0.001)\n",
      "(kkt_residual, ipopt_residual, kkttol) = (0.39348000338162237, 0.39348000338162237, 0.001)\n",
      "(kkt_residual, ipopt_residual, kkttol) = (0.4261436907156373, 0.4261436907156373, 0.001)\n",
      "(kkt_residual, ipopt_residual, kkttol) = (0.45887491487635046, 0.45887491487635046, 0.001)\n",
      "(kkt_residual, ipopt_residual, kkttol) = (0.49173002327730053, 0.49173002327730053, 0.001)\n",
      "(kkt_residual, ipopt_residual, kkttol) = (0.5230484239567712, 0.5230484239567712, 0.001)\n",
      "(kkt_residual, ipopt_residual, kkttol) = (0.5404933089442832, 0.5404933089442832, 0.001)\n",
      "(kkt_residual, ipopt_residual, kkttol) = (0.4238287941297294, 0.4238287941297294, 0.001)\n",
      "(kkt_residual, ipopt_residual, kkttol) = (0.45033223696018077, 0.45033223696018077, 0.001)\n",
      "(kkt_residual, ipopt_residual, kkttol) = (0.4774940918211463, 0.4774940918211463, 0.001)\n",
      "(kkt_residual, ipopt_residual, kkttol) = (0.4984559488159377, 0.4984559488159377, 0.001)\n",
      "(kkt_residual, ipopt_residual, kkttol) = (0.4516664321096755, 0.4516664321096755, 0.001)\n",
      "(kkt_residual, ipopt_residual, kkttol) = (0.41313693011077035, 0.41313693011077035, 0.001)\n",
      "(kkt_residual, ipopt_residual, kkttol) = (0.4053181727097215, 0.4053181727097215, 0.001)\n",
      "(kkt_residual, ipopt_residual, kkttol) = (0.3980277598088815, 0.3980277598088815, 0.001)\n",
      "(kkt_residual, ipopt_residual, kkttol) = (0.23497695814828035, 0.23497695814828035, 0.001)\n",
      "(kkt_residual, ipopt_residual, kkttol) = (0.2240387318729784, 0.2240387318729784, 0.001)\n",
      "(kkt_residual, ipopt_residual, kkttol) = (0.21879776347774715, 0.21879776347774715, 0.001)\n",
      "(kkt_residual, ipopt_residual, kkttol) = (0.1989954775401337, 0.1989954775401337, 0.001)\n",
      "(kkt_residual, ipopt_residual, kkttol) = (0.18746622282613323, 0.18746622282613323, 0.001)\n",
      "(kkt_residual, ipopt_residual, kkttol) = (0.19142330267620622, 0.19142330267620622, 0.001)\n",
      "(kkt_residual, ipopt_residual, kkttol) = (0.19388051557968922, 0.19388051557968922, 0.001)\n",
      "(kkt_residual, ipopt_residual, kkttol) = (0.18748151147879533, 0.18748151147879533, 0.001)\n",
      "(kkt_residual, ipopt_residual, kkttol) = (0.18445307460102534, 0.18445307460102534, 0.001)\n",
      "(kkt_residual, ipopt_residual, kkttol) = (0.18322853756874125, 0.18322853756874125, 0.001)\n",
      "(kkt_residual, ipopt_residual, kkttol) = (0.18340510898769224, 0.18340510898769224, 0.001)\n",
      "(kkt_residual, ipopt_residual, kkttol) = (0.18810126510236458, 0.18810126510236458, 0.001)\n",
      "(kkt_residual, ipopt_residual, kkttol) = (0.18900736285809216, 0.18900736285809216, 0.001)\n",
      "(kkt_residual, ipopt_residual, kkttol) = (0.17951794215928274, 0.17951794215928274, 0.001)\n",
      "(kkt_residual, ipopt_residual, kkttol) = (0.1882409411174475, 0.1882409411174475, 0.001)\n",
      "(kkt_residual, ipopt_residual, kkttol) = (0.1804032369886439, 0.1804032369886439, 0.001)\n",
      "(kkt_residual, ipopt_residual, kkttol) = (0.16723710278514936, 0.16723710278514936, 0.001)\n",
      "(kkt_residual, ipopt_residual, kkttol) = (0.15963422388702853, 0.15963422388702853, 0.001)\n",
      "(kkt_residual, ipopt_residual, kkttol) = (0.1532852604019066, 0.1532852604019066, 0.001)\n",
      "(kkt_residual, ipopt_residual, kkttol) = (0.1526909032559267, 0.1526909032559267, 0.001)\n",
      "(kkt_residual, ipopt_residual, kkttol) = (0.1553872979821822, 0.1553872979821822, 0.001)\n",
      "(kkt_residual, ipopt_residual, kkttol) = (0.157665964553523, 0.157665964553523, 0.001)\n",
      "(kkt_residual, ipopt_residual, kkttol) = (0.15954378844010542, 0.15954378844010542, 0.001)\n",
      "(kkt_residual, ipopt_residual, kkttol) = (0.15830197789359346, 0.15830197789359346, 0.001)\n",
      "(kkt_residual, ipopt_residual, kkttol) = (0.03023705298223156, 0.03023705298223156, 0.001)\n"
     ]
    },
    {
     "name": "stdout",
     "output_type": "stream",
     "text": [
      "(kkt_residual, ipopt_residual, kkttol) = (0.026984649554503193, 0.026984649554503193, 0.001)\n",
      "(kkt_residual, ipopt_residual, kkttol) = (0.024455053617295164, 0.024455053617295164, 0.001)\n",
      "(kkt_residual, ipopt_residual, kkttol) = (0.022147386527890944, 0.022147386527890944, 0.001)\n",
      "(kkt_residual, ipopt_residual, kkttol) = (0.020692149586423625, 0.020692149586423625, 0.001)\n",
      "(kkt_residual, ipopt_residual, kkttol) = (0.02061359717938238, 0.02061359717938238, 0.001)\n",
      "(kkt_residual, ipopt_residual, kkttol) = (0.020578013334377587, 0.020578013334377587, 0.001)\n",
      "(kkt_residual, ipopt_residual, kkttol) = (0.020556860668659027, 0.020556860668659027, 0.001)\n",
      "(kkt_residual, ipopt_residual, kkttol) = (0.02055557515334172, 0.02055557515334172, 0.001)\n",
      "(kkt_residual, ipopt_residual, kkttol) = (0.020592949699597796, 0.020592949699597796, 0.001)\n",
      "(kkt_residual, ipopt_residual, kkttol) = (0.0206258746925716, 0.0206258746925716, 0.001)\n",
      "(kkt_residual, ipopt_residual, kkttol) = (0.020654855288785967, 0.020654855288785967, 0.001)\n",
      "(kkt_residual, ipopt_residual, kkttol) = (0.020682423672637285, 0.020682423672637285, 0.001)\n",
      "(kkt_residual, ipopt_residual, kkttol) = (0.020706780617798515, 0.020706780617798515, 0.001)\n",
      "(kkt_residual, ipopt_residual, kkttol) = (0.02031957008565577, 0.02031957008565577, 0.001)\n",
      "(kkt_residual, ipopt_residual, kkttol) = (0.0198363823661456, 0.0198363823661456, 0.001)\n",
      "(kkt_residual, ipopt_residual, kkttol) = (0.019539916072272234, 0.019539916072272234, 0.001)\n",
      "(kkt_residual, ipopt_residual, kkttol) = (0.01925200704681096, 0.01925200704681096, 0.001)\n",
      "(kkt_residual, ipopt_residual, kkttol) = (0.018975198138116767, 0.018975198138116767, 0.001)\n",
      "(kkt_residual, ipopt_residual, kkttol) = (0.018712973930377075, 0.018712973930377075, 0.001)\n",
      "(kkt_residual, ipopt_residual, kkttol) = (0.018457605862495896, 0.018457605862495896, 0.001)\n",
      "(kkt_residual, ipopt_residual, kkttol) = (0.018211393762143757, 0.018211393762143757, 0.001)\n",
      "(kkt_residual, ipopt_residual, kkttol) = (0.01797226313940037, 0.01797226313940037, 0.001)\n",
      "(kkt_residual, ipopt_residual, kkttol) = (0.01774027346807472, 0.01774027346807472, 0.001)\n",
      "(kkt_residual, ipopt_residual, kkttol) = (0.017513277201663513, 0.017513277201663513, 0.001)\n",
      "(kkt_residual, ipopt_residual, kkttol) = (0.017291740046932347, 0.017291740046932347, 0.001)\n",
      "(kkt_residual, ipopt_residual, kkttol) = (0.017075261639664774, 0.017075261639664774, 0.001)\n",
      "(kkt_residual, ipopt_residual, kkttol) = (0.016863513340515723, 0.016863513340515723, 0.001)\n",
      "(kkt_residual, ipopt_residual, kkttol) = (0.016656222163755174, 0.016656222163755174, 0.001)\n",
      "(kkt_residual, ipopt_residual, kkttol) = (0.016453158425541403, 0.016453158425541403, 0.001)\n",
      "(kkt_residual, ipopt_residual, kkttol) = (0.016254126370855104, 0.016254126370855104, 0.001)\n",
      "(kkt_residual, ipopt_residual, kkttol) = (0.01605895696014059, 0.01605895696014059, 0.001)\n",
      "(kkt_residual, ipopt_residual, kkttol) = (0.01586750231505185, 0.01586750231505185, 0.001)\n",
      "(kkt_residual, ipopt_residual, kkttol) = (0.015679631420415063, 0.015679631420415063, 0.001)\n",
      "(kkt_residual, ipopt_residual, kkttol) = (0.015495226851186317, 0.015495226851186317, 0.001)\n",
      "(kkt_residual, ipopt_residual, kkttol) = (0.015313714799022549, 0.015313714799022549, 0.001)\n",
      "(kkt_residual, ipopt_residual, kkttol) = (0.015136009953581109, 0.015136009953581109, 0.001)\n",
      "(kkt_residual, ipopt_residual, kkttol) = (0.0149619103824854, 0.0149619103824854, 0.001)\n",
      "(kkt_residual, ipopt_residual, kkttol) = (0.014790561153805726, 0.014790561153805726, 0.001)\n",
      "(kkt_residual, ipopt_residual, kkttol) = (0.014621941443236253, 0.014621941443236253, 0.001)\n",
      "(kkt_residual, ipopt_residual, kkttol) = (0.014456121126567467, 0.014456121126567467, 0.001)\n",
      "(kkt_residual, ipopt_residual, kkttol) = (0.014293431255950395, 0.014293431255950395, 0.001)\n",
      "(kkt_residual, ipopt_residual, kkttol) = (0.014133531688356626, 0.014133531688356626, 0.001)\n",
      "(kkt_residual, ipopt_residual, kkttol) = (0.013976360418080702, 0.013976360418080702, 0.001)\n",
      "(kkt_residual, ipopt_residual, kkttol) = (0.013821857291425488, 0.013821857291425488, 0.001)\n",
      "(kkt_residual, ipopt_residual, kkttol) = (0.013669963943797825, 0.013669963943797825, 0.001)\n",
      "(kkt_residual, ipopt_residual, kkttol) = (0.013520623755812977, 0.013520623755812977, 0.001)\n",
      "(kkt_residual, ipopt_residual, kkttol) = (0.013373781752243019, 0.013373781752243019, 0.001)\n",
      "(kkt_residual, ipopt_residual, kkttol) = (0.013230371105571237, 0.013230371105571237, 0.001)\n",
      "(kkt_residual, ipopt_residual, kkttol) = (0.013086449330968364, 0.013086449330968364, 0.001)\n",
      "(kkt_residual, ipopt_residual, kkttol) = (0.012947725376969643, 0.012947725376969643, 0.001)\n",
      "(kkt_residual, ipopt_residual, kkttol) = (0.012810354749538178, 0.012810354749538178, 0.001)\n",
      "(kkt_residual, ipopt_residual, kkttol) = (0.012675230834949147, 0.012675230834949147, 0.001)\n",
      "(kkt_residual, ipopt_residual, kkttol) = (0.01254230702383019, 0.01254230702383019, 0.001)\n",
      "(kkt_residual, ipopt_residual, kkttol) = (0.01241287876800179, 0.01241287876800179, 0.001)\n",
      "(kkt_residual, ipopt_residual, kkttol) = (0.01228364613501931, 0.01228364613501931, 0.001)\n",
      "(kkt_residual, ipopt_residual, kkttol) = (0.012154379467181897, 0.012154379467181897, 0.001)\n",
      "(kkt_residual, ipopt_residual, kkttol) = (0.012032777025190455, 0.012032777025190455, 0.001)\n",
      "(kkt_residual, ipopt_residual, kkttol) = (0.011908829934531795, 0.011908829934531795, 0.001)\n",
      "(kkt_residual, ipopt_residual, kkttol) = (0.011788581338745274, 0.011788581338745274, 0.001)\n",
      "(kkt_residual, ipopt_residual, kkttol) = (0.011669856973648862, 0.011669856973648862, 0.001)\n",
      "(kkt_residual, ipopt_residual, kkttol) = (0.011552959387838513, 0.011552959387838513, 0.001)\n",
      "(kkt_residual, ipopt_residual, kkttol) = (0.011441813489684094, 0.011441813489684094, 0.001)\n",
      "(kkt_residual, ipopt_residual, kkttol) = (0.011328458752959847, 0.011328458752959847, 0.001)\n",
      "(kkt_residual, ipopt_residual, kkttol) = (0.011213988344232817, 0.011213988344232817, 0.001)\n",
      "(kkt_residual, ipopt_residual, kkttol) = (0.011104039482304984, 0.011104039482304984, 0.001)\n",
      "(kkt_residual, ipopt_residual, kkttol) = (0.010995727956451873, 0.010995727956451873, 0.001)\n",
      "(kkt_residual, ipopt_residual, kkttol) = (0.010889223652696955, 0.010889223652696955, 0.001)\n",
      "(kkt_residual, ipopt_residual, kkttol) = (0.010784257789042684, 0.010784257789042684, 0.001)\n",
      "(kkt_residual, ipopt_residual, kkttol) = (0.010681091060595449, 0.010681091060595449, 0.001)\n",
      "(kkt_residual, ipopt_residual, kkttol) = (0.01058010431226819, 0.01058010431226819, 0.001)\n",
      "(kkt_residual, ipopt_residual, kkttol) = (0.010475596945616061, 0.010475596945616061, 0.001)\n",
      "(kkt_residual, ipopt_residual, kkttol) = (0.010382245093120801, 0.010382245093120801, 0.001)\n",
      "(kkt_residual, ipopt_residual, kkttol) = (0.010283417206963463, 0.010283417206963463, 0.001)\n",
      "(kkt_residual, ipopt_residual, kkttol) = (0.010187773341895578, 0.010187773341895578, 0.001)\n",
      "(kkt_residual, ipopt_residual, kkttol) = (0.01009356154045804, 0.01009356154045804, 0.001)\n",
      "(kkt_residual, ipopt_residual, kkttol) = (0.010000753519397776, 0.010000753519397776, 0.001)\n",
      "(kkt_residual, ipopt_residual, kkttol) = (0.00990932203681183, 0.00990932203681183, 0.001)\n",
      "(kkt_residual, ipopt_residual, kkttol) = (0.009820435600932598, 0.009820435600932598, 0.001)\n",
      "(kkt_residual, ipopt_residual, kkttol) = (0.009729355768492098, 0.009729355768492098, 0.001)\n",
      "(kkt_residual, ipopt_residual, kkttol) = (0.009640678867350871, 0.009640678867350871, 0.001)\n",
      "(kkt_residual, ipopt_residual, kkttol) = (0.009556122044276805, 0.009556122044276805, 0.001)\n",
      "(kkt_residual, ipopt_residual, kkttol) = (0.009471266119346566, 0.009471266119346566, 0.001)\n",
      "(kkt_residual, ipopt_residual, kkttol) = (0.009388156327306163, 0.009388156327306163, 0.001)\n",
      "(kkt_residual, ipopt_residual, kkttol) = (0.009305635562370185, 0.009305635562370185, 0.001)\n",
      "(kkt_residual, ipopt_residual, kkttol) = (0.00922401863915745, 0.00922401863915745, 0.001)\n",
      "(kkt_residual, ipopt_residual, kkttol) = (0.009143974078515527, 0.009143974078515527, 0.001)\n",
      "(kkt_residual, ipopt_residual, kkttol) = (0.009065048737742387, 0.009065048737742387, 0.001)\n",
      "(kkt_residual, ipopt_residual, kkttol) = (0.009029119451980705, 0.009029119451980705, 0.001)\n",
      "(kkt_residual, ipopt_residual, kkttol) = (0.008997846593707948, 0.008997846593707948, 0.001)\n"
     ]
    },
    {
     "name": "stdout",
     "output_type": "stream",
     "text": [
      "(kkt_residual, ipopt_residual, kkttol) = (0.00896678697579567, 0.00896678697579567, 0.001)\n",
      "(kkt_residual, ipopt_residual, kkttol) = (0.008935934416120617, 0.008935934416120617, 0.001)\n",
      "(kkt_residual, ipopt_residual, kkttol) = (0.008905283803636976, 0.008905283803636976, 0.001)\n",
      "(kkt_residual, ipopt_residual, kkttol) = (0.008874830831992142, 0.008874830831992142, 0.001)\n",
      "(kkt_residual, ipopt_residual, kkttol) = (0.008844571834666581, 0.008844571834666581, 0.001)\n",
      "(kkt_residual, ipopt_residual, kkttol) = (0.008814503603881363, 0.008814503603881363, 0.001)\n",
      "(kkt_residual, ipopt_residual, kkttol) = (0.008784623284620707, 0.008784623284620707, 0.001)\n",
      "(kkt_residual, ipopt_residual, kkttol) = (0.008754928321817346, 0.008754928321817346, 0.001)\n",
      "(kkt_residual, ipopt_residual, kkttol) = (0.008725416374955941, 0.008725416374955941, 0.001)\n",
      "(kkt_residual, ipopt_residual, kkttol) = (0.008696085266766573, 0.008696085266766573, 0.001)\n",
      "(kkt_residual, ipopt_residual, kkttol) = (0.00866693295864529, 0.00866693295864529, 0.001)\n",
      "(kkt_residual, ipopt_residual, kkttol) = (0.008637957533222718, 0.008637957533222718, 0.001)\n",
      "(kkt_residual, ipopt_residual, kkttol) = (0.008607587357545299, 0.008607587357545299, 0.001)\n",
      "(kkt_residual, ipopt_residual, kkttol) = (0.00858185040965509, 0.00858185040965509, 0.001)\n",
      "(kkt_residual, ipopt_residual, kkttol) = (0.008552570070873955, 0.008552570070873955, 0.001)\n",
      "(kkt_residual, ipopt_residual, kkttol) = (0.008524121319331002, 0.008524121319331002, 0.001)\n",
      "(kkt_residual, ipopt_residual, kkttol) = (0.00849518324925036, 0.00849518324925036, 0.001)\n",
      "(kkt_residual, ipopt_residual, kkttol) = (0.008467699887090063, 0.008467699887090063, 0.001)\n",
      "(kkt_residual, ipopt_residual, kkttol) = (0.008439918952019454, 0.008439918952019454, 0.001)\n",
      "(kkt_residual, ipopt_residual, kkttol) = (0.008410745397792851, 0.008410745397792851, 0.001)\n",
      "(kkt_residual, ipopt_residual, kkttol) = (0.008385130889625003, 0.008385130889625003, 0.001)\n",
      "(kkt_residual, ipopt_residual, kkttol) = (0.008357638028721581, 0.008357638028721581, 0.001)\n",
      "(kkt_residual, ipopt_residual, kkttol) = (0.008330479292347093, 0.008330479292347093, 0.001)\n",
      "(kkt_residual, ipopt_residual, kkttol) = (0.00830349149859444, 0.00830349149859444, 0.001)\n",
      "(kkt_residual, ipopt_residual, kkttol) = (0.008276637837452583, 0.008276637837452583, 0.001)\n",
      "(kkt_residual, ipopt_residual, kkttol) = (0.008249961379421578, 0.008249961379421578, 0.001)\n",
      "(kkt_residual, ipopt_residual, kkttol) = (0.008223417506881603, 0.008223417506881603, 0.001)\n",
      "(kkt_residual, ipopt_residual, kkttol) = (0.008197037561137321, 0.008197037561137321, 0.001)\n",
      "(kkt_residual, ipopt_residual, kkttol) = (0.008170871215329, 0.008170871215329, 0.001)\n",
      "(kkt_residual, ipopt_residual, kkttol) = (0.00814689055155604, 0.00814689055155604, 0.001)\n",
      "(kkt_residual, ipopt_residual, kkttol) = (0.008118619649309267, 0.008118619649309267, 0.001)\n",
      "(kkt_residual, ipopt_residual, kkttol) = (0.008092911095918254, 0.008092911095918254, 0.001)\n",
      "(kkt_residual, ipopt_residual, kkttol) = (0.008067336007316683, 0.008067336007316683, 0.001)\n",
      "(kkt_residual, ipopt_residual, kkttol) = (0.00804189638967756, 0.00804189638967756, 0.001)\n",
      "(kkt_residual, ipopt_residual, kkttol) = (0.008016593430154373, 0.008016593430154373, 0.001)\n",
      "(kkt_residual, ipopt_residual, kkttol) = (0.00799142772794248, 0.00799142772794248, 0.001)\n",
      "(kkt_residual, ipopt_residual, kkttol) = (0.007966399446848627, 0.007966399446848627, 0.001)\n",
      "(kkt_residual, ipopt_residual, kkttol) = (0.00794119104675417, 0.00794119104675417, 0.001)\n",
      "(kkt_residual, ipopt_residual, kkttol) = (0.007916740523322474, 0.007916740523322474, 0.001)\n",
      "(kkt_residual, ipopt_residual, kkttol) = (0.00790945185008951, 0.00790945185008951, 0.001)\n",
      "(kkt_residual, ipopt_residual, kkttol) = (0.007966063686216884, 0.007966063686216884, 0.001)\n",
      "(kkt_residual, ipopt_residual, kkttol) = (0.007914151834819805, 0.007914151834819805, 0.001)\n",
      "(kkt_residual, ipopt_residual, kkttol) = (0.007863345374163444, 0.007863345374163444, 0.001)\n",
      "(kkt_residual, ipopt_residual, kkttol) = (0.007814066726403723, 0.007814066726403723, 0.001)\n",
      "(kkt_residual, ipopt_residual, kkttol) = (0.007767473729762386, 0.007767473729762386, 0.001)\n",
      "(kkt_residual, ipopt_residual, kkttol) = (0.007721377339636959, 0.007721377339636959, 0.001)\n",
      "(kkt_residual, ipopt_residual, kkttol) = (0.00767695410502256, 0.00767695410502256, 0.001)\n",
      "(kkt_residual, ipopt_residual, kkttol) = (0.007634182072363771, 0.007634182072363771, 0.001)\n",
      "(kkt_residual, ipopt_residual, kkttol) = (0.007590988445578262, 0.007590988445578262, 0.001)\n",
      "(kkt_residual, ipopt_residual, kkttol) = (0.007547923405757828, 0.007547923405757828, 0.001)\n",
      "(kkt_residual, ipopt_residual, kkttol) = (0.0075060650621896485, 0.0075060650621896485, 0.001)\n",
      "(kkt_residual, ipopt_residual, kkttol) = (0.007467809771890543, 0.007467809771890543, 0.001)\n",
      "(kkt_residual, ipopt_residual, kkttol) = (0.007428287517976528, 0.007428287517976528, 0.001)\n",
      "(kkt_residual, ipopt_residual, kkttol) = (0.007386610387030146, 0.007386610387030146, 0.001)\n",
      "(kkt_residual, ipopt_residual, kkttol) = (0.007347850878735684, 0.007347850878735684, 0.001)\n",
      "(kkt_residual, ipopt_residual, kkttol) = (0.007313313982084679, 0.007313313982084679, 0.001)\n",
      "(kkt_residual, ipopt_residual, kkttol) = (0.007273789843477374, 0.007273789843477374, 0.001)\n",
      "(kkt_residual, ipopt_residual, kkttol) = (0.0072348099146797296, 0.0072348099146797296, 0.001)\n",
      "(kkt_residual, ipopt_residual, kkttol) = (0.007201997281118366, 0.007201997281118366, 0.001)\n",
      "(kkt_residual, ipopt_residual, kkttol) = (0.007163500971758552, 0.007163500971758552, 0.001)\n",
      "(kkt_residual, ipopt_residual, kkttol) = (0.007127126790795302, 0.007127126790795302, 0.001)\n",
      "(kkt_residual, ipopt_residual, kkttol) = (0.007092398047110038, 0.007092398047110038, 0.001)\n",
      "(kkt_residual, ipopt_residual, kkttol) = (0.007056646886400841, 0.007056646886400841, 0.001)\n",
      "(kkt_residual, ipopt_residual, kkttol) = (0.007021708752221301, 0.007021708752221301, 0.001)\n",
      "(kkt_residual, ipopt_residual, kkttol) = (0.006987087251827617, 0.006987087251827617, 0.001)\n",
      "(kkt_residual, ipopt_residual, kkttol) = (0.006952772581751532, 0.006952772581751532, 0.001)\n",
      "(kkt_residual, ipopt_residual, kkttol) = (0.006916703343142316, 0.006916703343142316, 0.001)\n",
      "(kkt_residual, ipopt_residual, kkttol) = (0.006887376532239031, 0.006887376532239031, 0.001)\n",
      "(kkt_residual, ipopt_residual, kkttol) = (0.006851523712880336, 0.006851523712880336, 0.001)\n",
      "(kkt_residual, ipopt_residual, kkttol) = (0.006818367430319938, 0.006818367430319938, 0.001)\n",
      "(kkt_residual, ipopt_residual, kkttol) = (0.0067854764794539335, 0.0067854764794539335, 0.001)\n",
      "(kkt_residual, ipopt_residual, kkttol) = (0.006752776656663073, 0.006752776656663073, 0.001)\n",
      "(kkt_residual, ipopt_residual, kkttol) = (0.006720549650809815, 0.006720549650809815, 0.001)\n",
      "(kkt_residual, ipopt_residual, kkttol) = (0.0066890414411169274, 0.0066890414411169274, 0.001)\n",
      "(kkt_residual, ipopt_residual, kkttol) = (0.006655029449985861, 0.006655029449985861, 0.001)\n",
      "(kkt_residual, ipopt_residual, kkttol) = (0.006623910719955717, 0.006623910719955717, 0.001)\n",
      "(kkt_residual, ipopt_residual, kkttol) = (0.006596379561644383, 0.006596379561644383, 0.001)\n",
      "(kkt_residual, ipopt_residual, kkttol) = (0.0065608190234343056, 0.0065608190234343056, 0.001)\n",
      "(kkt_residual, ipopt_residual, kkttol) = (0.0065314056149947675, 0.0065314056149947675, 0.001)\n",
      "(kkt_residual, ipopt_residual, kkttol) = (0.006502140177357063, 0.006502140177357063, 0.001)\n",
      "(kkt_residual, ipopt_residual, kkttol) = (0.006468340988869059, 0.006468340988869059, 0.001)\n",
      "(kkt_residual, ipopt_residual, kkttol) = (0.006441399849551388, 0.006441399849551388, 0.001)\n",
      "(kkt_residual, ipopt_residual, kkttol) = (0.006408690922157234, 0.006408690922157234, 0.001)\n",
      "(kkt_residual, ipopt_residual, kkttol) = (0.006379535807937486, 0.006379535807937486, 0.001)\n",
      "(kkt_residual, ipopt_residual, kkttol) = (0.0063500439646198, 0.0063500439646198, 0.001)\n",
      "(kkt_residual, ipopt_residual, kkttol) = (0.006322517431600616, 0.006322517431600616, 0.001)\n",
      "(kkt_residual, ipopt_residual, kkttol) = (0.006291391378994149, 0.006291391378994149, 0.001)\n",
      "(kkt_residual, ipopt_residual, kkttol) = (0.006262862399200486, 0.006262862399200486, 0.001)\n",
      "(kkt_residual, ipopt_residual, kkttol) = (0.0062350709760039535, 0.0062350709760039535, 0.001)\n"
     ]
    },
    {
     "name": "stdout",
     "output_type": "stream",
     "text": [
      "(kkt_residual, ipopt_residual, kkttol) = (0.006202929081847941, 0.006202929081847941, 0.001)\n",
      "(kkt_residual, ipopt_residual, kkttol) = (0.006177204121565083, 0.006177204121565083, 0.001)\n",
      "(kkt_residual, ipopt_residual, kkttol) = (0.006148532059540912, 0.006148532059540912, 0.001)\n",
      "(kkt_residual, ipopt_residual, kkttol) = (0.006122869878268489, 0.006122869878268489, 0.001)\n",
      "(kkt_residual, ipopt_residual, kkttol) = (0.006092250003298716, 0.006092250003298716, 0.001)\n",
      "(kkt_residual, ipopt_residual, kkttol) = (0.006066721346911663, 0.006066721346911663, 0.001)\n",
      "(kkt_residual, ipopt_residual, kkttol) = (0.0060364315013785586, 0.0060364315013785586, 0.001)\n",
      "(kkt_residual, ipopt_residual, kkttol) = (0.006011927080193047, 0.006011927080193047, 0.001)\n",
      "(kkt_residual, ipopt_residual, kkttol) = (0.005982450629922198, 0.005982450629922198, 0.001)\n",
      "(kkt_residual, ipopt_residual, kkttol) = (0.00595717950572805, 0.00595717950572805, 0.001)\n",
      "(kkt_residual, ipopt_residual, kkttol) = (0.00592986565382958, 0.00592986565382958, 0.001)\n",
      "(kkt_residual, ipopt_residual, kkttol) = (0.005903666605945546, 0.005903666605945546, 0.001)\n",
      "(kkt_residual, ipopt_residual, kkttol) = (0.005876036570448662, 0.005876036570448662, 0.001)\n",
      "(kkt_residual, ipopt_residual, kkttol) = (0.005851073793857964, 0.005851073793857964, 0.001)\n",
      "(kkt_residual, ipopt_residual, kkttol) = (0.005823735815535969, 0.005823735815535969, 0.001)\n",
      "(kkt_residual, ipopt_residual, kkttol) = (0.005799973021078486, 0.005799973021078486, 0.001)\n",
      "(kkt_residual, ipopt_residual, kkttol) = (0.005773981857501553, 0.005773981857501553, 0.001)\n",
      "(kkt_residual, ipopt_residual, kkttol) = (0.005746303136268338, 0.005746303136268338, 0.001)\n",
      "(kkt_residual, ipopt_residual, kkttol) = (0.005724679708151825, 0.005724679708151825, 0.001)\n",
      "(kkt_residual, ipopt_residual, kkttol) = (0.005697378969509614, 0.005697378969509614, 0.001)\n",
      "(kkt_residual, ipopt_residual, kkttol) = (0.005672303586672811, 0.005672303586672811, 0.001)\n",
      "(kkt_residual, ipopt_residual, kkttol) = (0.005646306964123937, 0.005646306964123937, 0.001)\n",
      "(kkt_residual, ipopt_residual, kkttol) = (0.005622913644751648, 0.005622913644751648, 0.001)\n",
      "(kkt_residual, ipopt_residual, kkttol) = (0.005595616004919535, 0.005595616004919535, 0.001)\n",
      "(kkt_residual, ipopt_residual, kkttol) = (0.005575058679086808, 0.005575058679086808, 0.001)\n",
      "(kkt_residual, ipopt_residual, kkttol) = (0.005552137827883996, 0.005552137827883996, 0.001)\n",
      "(kkt_residual, ipopt_residual, kkttol) = (0.005523732707169771, 0.005523732707169771, 0.001)\n",
      "(kkt_residual, ipopt_residual, kkttol) = (0.005501483228401938, 0.005501483228401938, 0.001)\n",
      "(kkt_residual, ipopt_residual, kkttol) = (0.005480794027372227, 0.005480794027372227, 0.001)\n",
      "(kkt_residual, ipopt_residual, kkttol) = (0.00545098966450297, 0.00545098966450297, 0.001)\n",
      "(kkt_residual, ipopt_residual, kkttol) = (0.005432738535027681, 0.005432738535027681, 0.001)\n",
      "339.588535 seconds (9.81 M allocations: 35.499 GiB, 0.34% gc time, 0.00% compilation time)\n"
     ]
    }
   ],
   "source": [
    "m = Model(obj)\n",
    "addvar!(m, zeros(length(x0)), ones(length(x0)))\n",
    "Nonconvex.add_ineq_constraint!(m, constr)\n",
    "\n",
    "## enable printout\n",
    "# Nonconvex.show_residuals[] = true\n",
    "\n",
    "options = MMAOptions(\n",
    "    maxiter=300, tol = Tolerance(kkt = 1e-3, x=1e-3, f = 1e-3),\n",
    ")\n",
    "TopOpt.setpenalty!(solver, p)\n",
    "\n",
    "@time r = Nonconvex.optimize(\n",
    "    m, MMA87(dualoptimizer = ConjugateGradient()),\n",
    "    x0, options = options,\n",
    ");"
   ]
  },
  {
   "cell_type": "code",
   "execution_count": 28,
   "id": "regulated-maria",
   "metadata": {},
   "outputs": [
    {
     "name": "stdout",
     "output_type": "stream",
     "text": [
      "obj(r.minimizer) = 5672.452630609205\n",
      "constr(r.minimizer) = -4.863027863732938e-8\n",
      "maximum(stress(cheqfilter(r.minimizer))) = 15.145781730644202\n"
     ]
    },
    {
     "data": {
      "text/plain": [
       "GLMakie.Screen(...)"
      ]
     },
     "execution_count": 28,
     "metadata": {},
     "output_type": "execute_result"
    }
   ],
   "source": [
    "# show the optimized results!\n",
    "@show obj(r.minimizer)\n",
    "@show constr(r.minimizer)\n",
    "@show maximum(stress(cheqfilter(r.minimizer)))\n",
    "\n",
    "topology = cheqfilter(r.minimizer);\n",
    "fig = visualize(problem; topology = topology)\n",
    "Makie.display(fig)"
   ]
  },
  {
   "cell_type": "markdown",
   "id": "unusual-montgomery",
   "metadata": {},
   "source": [
    "## Call FEA solver on a specific topology"
   ]
  },
  {
   "cell_type": "code",
   "execution_count": 29,
   "id": "smoking-allen",
   "metadata": {},
   "outputs": [
    {
     "data": {
      "text/plain": [
       "3000-element Vector{Float64}:\n",
       " 0.6744720333245862\n",
       " 0.002782894804438163\n",
       " 0.906420486659322\n",
       " 0.42136307559778885\n",
       " 0.3247256140833463\n",
       " 0.21136878964521766\n",
       " 0.13033414057848458\n",
       " 0.8314091103615038\n",
       " 0.9561806120221832\n",
       " 0.5012371772169109\n",
       " 0.7442685071742989\n",
       " 0.7736567679981494\n",
       " 0.07703177251599169\n",
       " ⋮\n",
       " 0.5230521950308498\n",
       " 0.47072710078765323\n",
       " 0.1994245932403622\n",
       " 0.19289823750260826\n",
       " 0.14723507206886643\n",
       " 0.9314689578746407\n",
       " 0.4158403277612539\n",
       " 0.43432176436104886\n",
       " 0.6676924717985069\n",
       " 0.23353910302084668\n",
       " 0.591924553124733\n",
       " 0.8547611798904593"
      ]
     },
     "execution_count": 29,
     "metadata": {},
     "output_type": "execute_result"
    }
   ],
   "source": [
    "x1 = rand(length(solver.vars))"
   ]
  },
  {
   "cell_type": "code",
   "execution_count": 30,
   "id": "solar-referral",
   "metadata": {},
   "outputs": [
    {
     "data": {
      "text/plain": [
       "11253-element Vector{Float64}:\n",
       "     0.0\n",
       "     0.0\n",
       "     0.0\n",
       "     2.31169468621784\n",
       "    -2.2533328289938144\n",
       "    -0.9814612290880146\n",
       "   -12.522133529418308\n",
       "    -2.3739507419411585\n",
       "    -7.605813384367817\n",
       "     0.0\n",
       "     0.0\n",
       "     0.0\n",
       "     0.0\n",
       "     ⋮\n",
       "   323.865455245924\n",
       " -1134.6230024124666\n",
       "   -53.21755190906014\n",
       "   324.50719099654896\n",
       " -1198.1697666064651\n",
       "   -54.565238561763714\n",
       "   324.41081103323944\n",
       " -1260.0565047602151\n",
       "   -56.876957694252155\n",
       "   324.3649325067805\n",
       " -1321.7512372644308\n",
       "   -58.869249949931984"
      ]
     },
     "execution_count": 30,
     "metadata": {},
     "output_type": "execute_result"
    }
   ],
   "source": [
    "solver.vars = x1\n",
    "solver()\n",
    "u1 = solver.u"
   ]
  },
  {
   "cell_type": "code",
   "execution_count": 32,
   "id": "sought-gamma",
   "metadata": {},
   "outputs": [
    {
     "data": {
      "text/plain": [
       "GLMakie.Screen(...)"
      ]
     },
     "execution_count": 32,
     "metadata": {},
     "output_type": "execute_result"
    }
   ],
   "source": [
    "# visualize the deformation!\n",
    "fig = visualize(problem, u1; topology=x1, default_exagg_scale=0.001)\n",
    "Makie.display(fig)"
   ]
  }
 ],
 "metadata": {
  "kernelspec": {
   "display_name": "Julia 1.6.0-rc1",
   "language": "julia",
   "name": "julia-1.6"
  },
  "language_info": {
   "file_extension": ".jl",
   "mimetype": "application/julia",
   "name": "julia",
   "version": "1.6.0"
  }
 },
 "nbformat": 4,
 "nbformat_minor": 5
}
