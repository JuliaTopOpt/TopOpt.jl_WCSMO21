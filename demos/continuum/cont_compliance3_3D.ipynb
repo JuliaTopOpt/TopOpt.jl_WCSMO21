{
 "cells": [
  {
   "cell_type": "code",
   "execution_count": 2,
   "id": "unsigned-authentication",
   "metadata": {},
   "outputs": [],
   "source": [
    "using Makie, TopOpt, LinearAlgebra, StatsFuns\n",
    "using TopOpt.TopOptProblems.Visualization: visualize"
   ]
  },
  {
   "cell_type": "markdown",
   "id": "prescription-snowboard",
   "metadata": {},
   "source": [
    "## Parameter setup"
   ]
  },
  {
   "cell_type": "code",
   "execution_count": 3,
   "id": "sealed-mother",
   "metadata": {},
   "outputs": [],
   "source": [
    "E = 1.0 # Young’s modulus\n",
    "v = 0.3 # Poisson’s ratio\n",
    "f = 1.0 # downward force\n",
    "rmin = 4.0 # filter radius\n",
    "xmin = 0.0001 # minimum density\n",
    "problem_size = (30, 10, 10)\n",
    "V = 0.5 # maximum volume fraction\n",
    "p = 4.0 # penalty\n",
    "\n",
    "x0 = fill(V, prod(problem_size)); # initial design"
   ]
  },
  {
   "cell_type": "markdown",
   "id": "desperate-villa",
   "metadata": {},
   "source": [
    "## Define a new problem"
   ]
  },
  {
   "cell_type": "code",
   "execution_count": 4,
   "id": "proprietary-termination",
   "metadata": {},
   "outputs": [],
   "source": [
    "using Ferrite\n",
    "using TopOpt\n",
    "using TopOpt.TopOptProblems: RectilinearGrid, Metadata\n",
    "using TopOpt.TopOptProblems: left, right, bottom, middley, middlez,\n",
    "    nnodespercell, nfacespercell, find_black_and_white, find_varind\n",
    "using TopOpt.Utilities: @params\n",
    "\n",
    "@params struct NewPointLoadCantilever{dim, T, N, M} <: StiffnessTopOptProblem{dim, T}\n",
    "    rect_grid::RectilinearGrid{dim, T, N, M}\n",
    "    E::T\n",
    "    ν::T\n",
    "    ch::ConstraintHandler{<:DofHandler{dim, <:Cell{dim,N,M}, T}, T}\n",
    "    load_dict::Dict{Int, Vector{T}}\n",
    "    black::AbstractVector\n",
    "    white::AbstractVector\n",
    "    varind::AbstractVector{Int}\n",
    "    metadata::Metadata\n",
    "end\n",
    "\n",
    "function NewPointLoadCantilever(::Type{Val{CellType}}, nels::NTuple{dim,Int}, sizes::NTuple{dim}, \n",
    "    E = 1.0, ν = 0.3, force = 1.0) where {dim, CellType}\n",
    "    iseven(nels[2]) && (length(nels) < 3 || iseven(nels[3])) || throw(\"Grid does not have an even number of elements along the y and/or z axes.\")\n",
    "\n",
    "    _T = promote_type(eltype(sizes), typeof(E), typeof(ν), typeof(force))\n",
    "    if _T <: Integer\n",
    "        T = Float64\n",
    "    else\n",
    "        T = _T\n",
    "    end\n",
    "    if CellType === :Linear || dim === 3\n",
    "        rect_grid = RectilinearGrid(Val{:Linear}, nels, T.(sizes))\n",
    "    else\n",
    "        rect_grid = RectilinearGrid(Val{:Quadratic}, nels, T.(sizes))\n",
    "    end\n",
    "\n",
    "    if haskey(rect_grid.grid.facesets, \"fixed_all\") \n",
    "        pop!(rect_grid.grid.facesets, \"fixed_all\")\n",
    "    end\n",
    "    addnodeset!(rect_grid.grid, \"fixed_all\", x -> left(rect_grid, x));\n",
    "    \n",
    "    if haskey(rect_grid.grid.nodesets, \"down_force\") \n",
    "        pop!(rect_grid.grid.nodesets, \"down_force\")\n",
    "    end\n",
    "    if dim == 3\n",
    "        addnodeset!(rect_grid.grid, \"down_force\", x -> right(rect_grid, x) && \n",
    "            bottom(rect_grid, x));\n",
    "            #  && middlez(rect_grid, x));\n",
    "    else\n",
    "        addnodeset!(rect_grid.grid, \"down_force\", x -> right(rect_grid, x) && \n",
    "            right(rect_grid, x) && middley(rect_grid, x));\n",
    "    end\n",
    "\n",
    "    # Create displacement field u\n",
    "    dh = DofHandler(rect_grid.grid)\n",
    "    if CellType === :Linear || dim === 3\n",
    "        push!(dh, :u, dim) # Add a displacement field\n",
    "    else\n",
    "        ip = Lagrange{2, RefCube, 2}()\n",
    "        push!(dh, :u, dim, ip) # Add a displacement field        \n",
    "    end\n",
    "    close!(dh)\n",
    "    \n",
    "    ch = ConstraintHandler(dh)\n",
    "\n",
    "    dbc = Dirichlet(:u, getnodeset(rect_grid.grid, \"fixed_all\"), (x,t) -> zeros(T, dim), collect(1:dim))\n",
    "    add!(ch, dbc)\n",
    "    close!(ch)\n",
    "    t = T(0)\n",
    "    Ferrite.update!(ch, t)\n",
    "\n",
    "    metadata = Metadata(dh)\n",
    "    load_dict = Dict{Int, Vector{T}}()\n",
    "    for fnode in getnodeset(rect_grid.grid, \"down_force\")\n",
    "    \tload_dict[fnode] = [0, -force, 0]\n",
    "    end\n",
    "\n",
    "    N = nnodespercell(rect_grid)\n",
    "    M = nfacespercell(rect_grid)\n",
    "\n",
    "    black, white = find_black_and_white(dh)\n",
    "    varind = find_varind(black, white)\n",
    "    \n",
    "    return NewPointLoadCantilever(rect_grid, E, ν, ch, load_dict, black, white, varind, metadata)\n",
    "end\n",
    "\n",
    "# used in FEA to determine default quad order\n",
    "# we don't assume the problem struct has `rect_grid` to define its grid\n",
    "TopOptProblems.nnodespercell(p::NewPointLoadCantilever) = nnodespercell(p.rect_grid)\n",
    "\n",
    "# ! important, used for specification!\n",
    "function TopOptProblems.getcloaddict(p::NewPointLoadCantilever{dim, T}) where {dim, T}\n",
    "    # f = T[0, -p.force, 0]\n",
    "    # fnode = Tuple(getnodeset(p.rect_grid.grid, \"down_force\"))[1]\n",
    "    # return Dict{Int, Vector{T}}(fnode => f)\n",
    "    return p.load_dict\n",
    "end"
   ]
  },
  {
   "cell_type": "code",
   "execution_count": 5,
   "id": "stunning-emission",
   "metadata": {},
   "outputs": [],
   "source": [
    "problem = NewPointLoadCantilever(Val{:Linear}, problem_size, (1.0, 1.0, 1.0), E, v, f);"
   ]
  },
  {
   "cell_type": "markdown",
   "id": "upset-function",
   "metadata": {},
   "source": [
    "## FEA solvers"
   ]
  },
  {
   "cell_type": "code",
   "execution_count": 6,
   "id": "cardiovascular-roller",
   "metadata": {},
   "outputs": [],
   "source": [
    "solver = FEASolver(Displacement, Direct, problem, xmin = xmin);"
   ]
  },
  {
   "cell_type": "code",
   "execution_count": 7,
   "id": "measured-ballot",
   "metadata": {},
   "outputs": [
    {
     "data": {
      "text/plain": [
       "11253-element Vector{Float64}:\n",
       "    0.0\n",
       "    0.0\n",
       "    0.0\n",
       "   -2.2099446376081686\n",
       "   -0.9999034775224457\n",
       "   -1.4202725587371576\n",
       "   -1.5759577627647248\n",
       "   -0.42196268331009407\n",
       "   -1.140815179503329\n",
       "    0.0\n",
       "    0.0\n",
       "    0.0\n",
       "    0.0\n",
       "    ⋮\n",
       "   28.54202289729392\n",
       " -106.73217916326222\n",
       "   -0.19481464550894279\n",
       "   28.60298050880803\n",
       " -112.64039125867208\n",
       "   -0.1259155145335127\n",
       "   28.61626113360229\n",
       " -118.4816362695016\n",
       "   -0.08202963419333631\n",
       "   28.614817608618498\n",
       " -124.26831756075559\n",
       "   -0.05206099717716567"
      ]
     },
     "execution_count": 7,
     "metadata": {},
     "output_type": "execute_result"
    }
   ],
   "source": [
    "solver()\n",
    "u0 = solver.u"
   ]
  },
  {
   "cell_type": "code",
   "execution_count": 8,
   "id": "hollywood-renaissance",
   "metadata": {},
   "outputs": [
    {
     "data": {
      "text/plain": [
       "GLMakie.Screen(...)"
      ]
     },
     "execution_count": 8,
     "metadata": {},
     "output_type": "execute_result"
    }
   ],
   "source": [
    "# visualize the deformation!\n",
    "fig = visualize(problem, u0)\n",
    "Makie.display(fig)"
   ]
  },
  {
   "cell_type": "code",
   "execution_count": null,
   "id": "empirical-joining",
   "metadata": {},
   "outputs": [],
   "source": [
    "# cg_assembly_solver = FEASolver(Displacement, CG, Assembly, problem, xmin = xmin)\n",
    "# cg_matrix_free_solver = FEASolver(Displacement, CG, MatrixFree, problem, xmin = xmin)"
   ]
  },
  {
   "cell_type": "markdown",
   "id": "agreed-senator",
   "metadata": {},
   "source": [
    "## Construct objective and constraints (function definitions)"
   ]
  },
  {
   "cell_type": "code",
   "execution_count": null,
   "id": "upset-actor",
   "metadata": {},
   "outputs": [],
   "source": [
    "cheqfilter = DensityFilter(solver, rmin = rmin)\n",
    "stress = TopOpt.MicroVonMisesStress(solver)\n",
    "comp = TopOpt.Compliance(problem, solver)\n",
    "\n",
    "# minimize compliance\n",
    "function obj(x)\n",
    "    return comp(cheqfilter(x))\n",
    "end\n",
    "\n",
    "# volume bound\n",
    "function constr(x)\n",
    "    return sum(cheqfilter(x)) / length(x) - V\n",
    "end;"
   ]
  },
  {
   "cell_type": "markdown",
   "id": "spatial-cisco",
   "metadata": {},
   "source": [
    "## Run optimization"
   ]
  },
  {
   "cell_type": "code",
   "execution_count": null,
   "id": "necessary-avenue",
   "metadata": {},
   "outputs": [],
   "source": [
    "m = Model(obj)\n",
    "addvar!(m, zeros(length(x0)), ones(length(x0)))\n",
    "Nonconvex.add_ineq_constraint!(m, constr)\n",
    "\n",
    "## enable printout\n",
    "# Nonconvex.show_residuals[] = true\n",
    "\n",
    "options = MMAOptions(\n",
    "    maxiter=300, tol = Tolerance(kkt = 1e-3, x=1e-3, f = 1e-3),\n",
    ")\n",
    "TopOpt.setpenalty!(solver, p)\n",
    "\n",
    "@time r = Nonconvex.optimize(\n",
    "    m, MMA87(dualoptimizer = ConjugateGradient()),\n",
    "    x0, options = options,\n",
    ");"
   ]
  },
  {
   "cell_type": "code",
   "execution_count": null,
   "id": "regulated-maria",
   "metadata": {},
   "outputs": [],
   "source": [
    "# show the optimized results!\n",
    "@show obj(r.minimizer)\n",
    "@show constr(r.minimizer)\n",
    "@show maximum(stress(cheqfilter(r.minimizer)))\n",
    "\n",
    "topology = cheqfilter(r.minimizer);\n",
    "fig = visualize(problem; topology = topology)\n",
    "Makie.display(fig)"
   ]
  },
  {
   "cell_type": "markdown",
   "id": "unusual-montgomery",
   "metadata": {},
   "source": [
    "## Call FEA solver on a specific topology"
   ]
  },
  {
   "cell_type": "code",
   "execution_count": null,
   "id": "smoking-allen",
   "metadata": {},
   "outputs": [],
   "source": [
    "x1 = rand(length(solver.vars))"
   ]
  },
  {
   "cell_type": "code",
   "execution_count": null,
   "id": "solar-referral",
   "metadata": {},
   "outputs": [],
   "source": [
    "solver.vars = x1\n",
    "solver()\n",
    "u1 = solver.u"
   ]
  },
  {
   "cell_type": "code",
   "execution_count": null,
   "id": "sought-gamma",
   "metadata": {},
   "outputs": [],
   "source": [
    "# visualize the deformation!\n",
    "fig = visualize(problem, u1; topology=x1, default_exagg_scale=0.001)\n",
    "Makie.display(fig)"
   ]
  }
 ],
 "metadata": {
  "kernelspec": {
   "display_name": "Julia 1.6.0-rc1",
   "language": "julia",
   "name": "julia-1.6"
  },
  "language_info": {
   "file_extension": ".jl",
   "mimetype": "application/julia",
   "name": "julia",
   "version": "1.6.0"
  }
 },
 "nbformat": 4,
 "nbformat_minor": 5
}
